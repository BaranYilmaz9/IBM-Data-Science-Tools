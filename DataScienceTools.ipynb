{
 "cells": [
  {
   "cell_type": "markdown",
   "id": "886618da-ab52-4bf5-8faa-8613868297da",
   "metadata": {},
   "source": [
    "# Data Science Tools"
   ]
  },
  {
   "cell_type": "markdown",
   "id": "94d55856-1fb2-47d2-bda5-ddd41d842076",
   "metadata": {},
   "source": [
    "Data science tools are summerized in this project\n"
   ]
  },
  {
   "cell_type": "markdown",
   "id": "2bfb5745-e39e-4824-81c0-3b267891306a",
   "metadata": {},
   "source": [
    "Popular Data Science Languages include:\n",
    "\n",
    "1. Python\n",
    "2. R\n",
    "3. Java\n",
    "4. SQL\n",
    "5. C++\n"
   ]
  },
  {
   "cell_type": "markdown",
   "id": "afa477c5-69a7-407f-af75-43d7aa265fa0",
   "metadata": {},
   "source": [
    "Data Science Libraries:\n",
    "\n",
    "1. Pandas\n",
    "2. Numpy\n",
    "3. Matlpotlib\n",
    "4. SciPy\n",
    "5. Tensorflow\n",
    "6. SciKit-Learn\n",
    "7. PyTorch"
   ]
  },
  {
   "cell_type": "markdown",
   "id": "8e5862c1-708f-47b9-a1e6-2e3e1f19f792",
   "metadata": {},
   "source": [
    "|Data Science Tools|\n",
    "|---|\n",
    "|Apache Hadoop|\n",
    "|SAS|\n",
    "|TensorFlow|"
   ]
  },
  {
   "cell_type": "markdown",
   "id": "f0d2a5c7-4aec-444b-8d3d-ce8972c0d189",
   "metadata": {},
   "source": [
    "## Examples of evaluation Arithmetic Expressions in Python\n",
    "\n"
   ]
  },
  {
   "cell_type": "code",
   "execution_count": 11,
   "id": "e240b583-da0b-44e4-ad57-4c0809f86d18",
   "metadata": {},
   "outputs": [
    {
     "data": {
      "text/plain": [
       "4453"
      ]
     },
     "execution_count": 11,
     "metadata": {},
     "output_type": "execute_result"
    }
   ],
   "source": [
    "(4*5)+4433"
   ]
  },
  {
   "cell_type": "code",
   "execution_count": 12,
   "id": "b9c6128e-164b-45dc-a2a1-c5ee266645d4",
   "metadata": {},
   "outputs": [
    {
     "data": {
      "text/plain": [
       "6.0"
      ]
     },
     "execution_count": 12,
     "metadata": {},
     "output_type": "execute_result"
    }
   ],
   "source": [
    "360 / 60"
   ]
  },
  {
   "cell_type": "markdown",
   "id": "9f08c3aa-59db-4a7a-b8f9-645e91415e97",
   "metadata": {},
   "source": [
    "_Objective_\n",
    "* Demonstrate popular data science languages\n",
    "* Demonstrate popular data science libraries\n",
    "* Demonstrate popular data science tools\n"
   ]
  },
  {
   "cell_type": "markdown",
   "id": "d9e165d7-f9c4-4659-8dcb-5a3a1c607b16",
   "metadata": {},
   "source": [
    "### Author\n",
    "Baran Yılmaz"
   ]
  },
  {
   "cell_type": "code",
   "execution_count": null,
   "id": "187bb7fe-81ee-445e-a92f-264a5d3cf08f",
   "metadata": {},
   "outputs": [],
   "source": []
  }
 ],
 "metadata": {
  "kernelspec": {
   "display_name": "Python 3 (ipykernel)",
   "language": "python",
   "name": "python3"
  },
  "language_info": {
   "codemirror_mode": {
    "name": "ipython",
    "version": 3
   },
   "file_extension": ".py",
   "mimetype": "text/x-python",
   "name": "python",
   "nbconvert_exporter": "python",
   "pygments_lexer": "ipython3",
   "version": "3.11.7"
  }
 },
 "nbformat": 4,
 "nbformat_minor": 5
}
